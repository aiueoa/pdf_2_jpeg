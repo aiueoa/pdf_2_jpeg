{
 "cells": [
  {
   "cell_type": "code",
   "execution_count": null,
   "metadata": {},
   "outputs": [],
   "source": [
    "# 参考サイト：　パッケージのインストールや本コードの参考元となったもの\n",
    "# https://qiita.com/Gyutan/items/5e62420cc8f6bb106bed"
   ]
  },
  {
   "cell_type": "code",
   "execution_count": 2,
   "metadata": {},
   "outputs": [],
   "source": [
    "import os\n",
    "import glob\n",
    "from pathlib import Path\n",
    "from pdf2image import convert_from_path"
   ]
  },
  {
   "cell_type": "code",
   "execution_count": 7,
   "metadata": {},
   "outputs": [],
   "source": [
    "def pdf_image(pdf_file,img_path, fmt='jpeg', dpi=200):\n",
    "\n",
    "    #pdf_file、img_pathをPathにする\n",
    "    pdf_path = Path(pdf_file)\n",
    "    image_dir = Path(img_path)\n",
    "\n",
    "    # PDFをImage に変換(pdf2imageの関数)\n",
    "    pages = convert_from_path(pdf_path, dpi)\n",
    "\n",
    "    # 画像ファイルを１ページずつ保存\n",
    "    for i, page in enumerate(pages):\n",
    "        file_name = \"{}_{:02d}.{}\".format(pdf_path.stem,i+1,fmt)\n",
    "        image_path = image_dir / file_name\n",
    "        page.save(image_path, fmt)\n",
    "\n",
    "if __name__ == \"__main__\":\n",
    "    path = os.getcwd()\n",
    "    files = glob.glob(path+'/input/*')\n",
    "    input_file = files[0]\n",
    "    output_path = path+'/output'\n",
    "    # PDFファイルのパス\n",
    "    pdf_path = Path(input_file)\n",
    "    img_path=Path(output_path)\n",
    "\n",
    "    pdf_image(pdf_file=pdf_path,img_path=img_path, fmt='jpeg', dpi=200)"
   ]
  }
 ],
 "metadata": {
  "kernelspec": {
   "display_name": "Python 3",
   "language": "python",
   "name": "python3"
  },
  "language_info": {
   "codemirror_mode": {
    "name": "ipython",
    "version": 3
   },
   "file_extension": ".py",
   "mimetype": "text/x-python",
   "name": "python",
   "nbconvert_exporter": "python",
   "pygments_lexer": "ipython3",
   "version": "3.8.5"
  }
 },
 "nbformat": 4,
 "nbformat_minor": 4
}
